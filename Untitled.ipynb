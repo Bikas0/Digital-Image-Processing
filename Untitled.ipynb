{
 "cells": [
  {
   "cell_type": "markdown",
   "id": "a725f151",
   "metadata": {},
   "source": [
    "# To create an opencv-python program to get a gradient image from an RGB/grayscale image."
   ]
  },
  {
   "cell_type": "code",
   "execution_count": null,
   "id": "bf6b9182",
   "metadata": {},
   "outputs": [],
   "source": [
    "import cv2\n",
    "import numpy as np\n",
    "\n",
    "# Load the image as grayscale\n",
    "img = cv2.imread('Lenna.png', 0)\n",
    "\n",
    "# Calculate the gradient using the Sobel operator\n",
    "grad_x = cv2.Sobel(img, cv2.CV_64F, 1, 0, ksize=3)\n",
    "grad_y = cv2.Sobel(img, cv2.CV_64F, 0, 1, ksize=3)\n",
    "\n",
    "# Calculate the gradient magnitude and direction\n",
    "mag, angle = cv2.cartToPolar(grad_x, grad_y, angleInDegrees=True)\n",
    "\n",
    "# Normalize the gradient magnitude to 0-255 range\n",
    "mag = cv2.normalize(mag, None, 0, 255, cv2.NORM_MINMAX, cv2.CV_8U)\n",
    "# Display the original and gradient images\n",
    "cv2.imshow('Original Image', img)\n",
    "cv2.imshow('Gradient Image', mag)\n",
    "cv2.waitKey(0)\n",
    "cv2.destroyAllWindows()\n"
   ]
  },
  {
   "cell_type": "markdown",
   "id": "cdec6002",
   "metadata": {},
   "source": [
    "# To create an opencv-python program to show a histogram of an RGB/grayscale image."
   ]
  },
  {
   "cell_type": "code",
   "execution_count": null,
   "id": "bdf6efee",
   "metadata": {},
   "outputs": [],
   "source": []
  }
 ],
 "metadata": {
  "kernelspec": {
   "display_name": "Python 3 (ipykernel)",
   "language": "python",
   "name": "python3"
  },
  "language_info": {
   "codemirror_mode": {
    "name": "ipython",
    "version": 3
   },
   "file_extension": ".py",
   "mimetype": "text/x-python",
   "name": "python",
   "nbconvert_exporter": "python",
   "pygments_lexer": "ipython3",
   "version": "3.9.7"
  }
 },
 "nbformat": 4,
 "nbformat_minor": 5
}
